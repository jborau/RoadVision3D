{
 "cells": [
  {
   "cell_type": "code",
   "execution_count": 3,
   "metadata": {},
   "outputs": [],
   "source": [
    "import os\n",
    "from collections import defaultdict\n",
    "\n",
    "def analyze_dataset(directory):\n",
    "    max_x, max_y, max_z = 0, 0, 0\n",
    "    max_x_file, max_y_file, max_z_file = '', '', ''\n",
    "    class_counts = defaultdict(int)\n",
    "    class_dimensions = defaultdict(list)\n",
    "    \n",
    "    for filename in os.listdir(directory):\n",
    "        if filename.endswith('.txt'):\n",
    "            filepath = os.path.join(directory, filename)\n",
    "            with open(filepath, 'r') as f:\n",
    "                for line in f:\n",
    "                    line = line.strip()\n",
    "                    if line == '':\n",
    "                        continue\n",
    "                    fields = line.split()\n",
    "                    if len(fields) != 15:\n",
    "                        print(f\"Line with unexpected number of fields ({len(fields)}): {line}\")\n",
    "                        continue\n",
    "                    class_name = fields[0]\n",
    "                    # dimensions: height, width, length\n",
    "                    try:\n",
    "                        h = float(fields[8])\n",
    "                        w = float(fields[9])\n",
    "                        l = float(fields[10])\n",
    "                        x = float(fields[11])\n",
    "                        y = float(fields[12])\n",
    "                        z = float(fields[13])\n",
    "                    except ValueError as e:\n",
    "                        print(f\"Error parsing line: {line}\")\n",
    "                        print(e)\n",
    "                        continue\n",
    "                    # Update max distances and filenames\n",
    "                    if abs(x) > max_x:\n",
    "                        max_x = abs(x)\n",
    "                        max_x_file = filename\n",
    "                    if abs(y) > max_y:\n",
    "                        max_y = abs(y)\n",
    "                        max_y_file = filename\n",
    "                    if abs(z) > max_z:\n",
    "                        max_z = abs(z)\n",
    "                        max_z_file = filename\n",
    "                    # Update class counts\n",
    "                    class_counts[class_name] += 1\n",
    "                    # Update class dimensions\n",
    "                    class_dimensions[class_name].append((h, w, l))\n",
    "        else:\n",
    "            continue\n",
    "    # Now compute average dimensions\n",
    "    class_avg_dimensions = {}\n",
    "    for class_name, dims_list in class_dimensions.items():\n",
    "        h_list, w_list, l_list = zip(*dims_list)\n",
    "        avg_h = sum(h_list) / len(h_list)\n",
    "        avg_w = sum(w_list) / len(w_list)\n",
    "        avg_l = sum(l_list) / len(l_list)\n",
    "        class_avg_dimensions[class_name] = (avg_h, avg_w, avg_l)\n",
    "    # Output the results\n",
    "    print(f\"Maximum x distance: {max_x} (in file '{max_x_file}')\")\n",
    "    print(f\"Maximum y distance: {max_y} (in file '{max_y_file}')\")\n",
    "    print(f\"Maximum z distance: {max_z} (in file '{max_z_file}')\")\n",
    "    print(\"\\nNumber of objects per class:\")\n",
    "    for class_name, count in class_counts.items():\n",
    "        print(f\"{class_name}: {count}\")\n",
    "    print(\"\\nAverage dimensions per class (height, width, length):\")\n",
    "    for class_name, dims in class_avg_dimensions.items():\n",
    "        print(f\"{class_name}: Height={dims[0]:.8f}, Width={dims[1]:.8f}, Length={dims[2]:.8f}\")\n"
   ]
  },
  {
   "cell_type": "code",
   "execution_count": 8,
   "metadata": {},
   "outputs": [
    {
     "name": "stdout",
     "output_type": "stream",
     "text": [
      "Maximum x distance: 63.46617976816844 (in file '002583.txt')\n",
      "Maximum y distance: 41.5854230976786 (in file '001495.txt')\n",
      "Maximum z distance: 197.84190339956504 (in file '008639.txt')\n",
      "\n",
      "Number of objects per class:\n",
      "Trafficcone: 159930\n",
      "Car: 105090\n",
      "Pedestrian: 25194\n",
      "Motorcyclist: 18256\n",
      "Cyclist: 17244\n",
      "Barrowlist: 128\n",
      "\n",
      "Average dimensions per class (height, width, length):\n",
      "Trafficcone: Height=0.83964387, Width=0.39509553, Length=0.41538107\n",
      "Car: Height=1.69076256, Width=1.95625980, Length=4.59149442\n",
      "Pedestrian: Height=1.64686968, Width=0.56291266, Length=0.52403671\n",
      "Motorcyclist: Height=1.45869597, Width=0.72918410, Length=1.79426864\n",
      "Cyclist: Height=1.42871768, Width=0.64937362, Length=1.68556033\n",
      "Barrowlist: Height=1.00430310, Width=0.58871438, Length=0.87480480\n"
     ]
    }
   ],
   "source": [
    "analyze_dataset('/home/javier/datasets/DAIR-V2X/single-infrastructure-side-mmdet/training/label_2')\n",
    "# analyze_dataset('/home/javier/datasets/kitti/training/label_2')\n",
    "\n"
   ]
  }
 ],
 "metadata": {
  "kernelspec": {
   "display_name": "pytorch",
   "language": "python",
   "name": "python3"
  },
  "language_info": {
   "codemirror_mode": {
    "name": "ipython",
    "version": 3
   },
   "file_extension": ".py",
   "mimetype": "text/x-python",
   "name": "python",
   "nbconvert_exporter": "python",
   "pygments_lexer": "ipython3",
   "version": "3.8.19"
  }
 },
 "nbformat": 4,
 "nbformat_minor": 2
}

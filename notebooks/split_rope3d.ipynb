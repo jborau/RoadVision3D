{
 "cells": [
  {
   "cell_type": "code",
   "execution_count": 1,
   "metadata": {},
   "outputs": [
    {
     "name": "stdout",
     "output_type": "stream",
     "text": [
      "División completada. Archivos 'train.txt' y 'val.txt' generados.\n"
     ]
    }
   ],
   "source": [
    "import random\n",
    "\n",
    "# Ruta del archivo original y los archivos de salida\n",
    "archivo_original = '/home/javier/datasets/rope3d-backup/training/train.txt'\n",
    "archivo_train = '/home/javier/pytorch/RoadVision3D/notebooks/train.txt'\n",
    "archivo_val = '/home/javier/pytorch/RoadVision3D/notebooks/val.txt'\n",
    "\n",
    "# Número de archivos para validación\n",
    "num_val = 4676\n",
    "\n",
    "# Leer todas las líneas del archivo original\n",
    "with open(archivo_original, 'r') as f:\n",
    "    lineas = f.readlines()\n",
    "\n",
    "# Seleccionar aleatoriamente 4676 líneas para validación\n",
    "lineas_val = random.sample(lineas, num_val)\n",
    "\n",
    "# Crear las listas para train y val\n",
    "lineas_train = [linea for linea in lineas if linea not in lineas_val]\n",
    "\n",
    "# Escribir las líneas en sus archivos correspondientes\n",
    "with open(archivo_train, 'w') as f:\n",
    "    f.writelines(lineas_train)\n",
    "\n",
    "with open(archivo_val, 'w') as f:\n",
    "    f.writelines(lineas_val)\n",
    "\n",
    "print(\"División completada. Archivos 'train.txt' y 'val.txt' generados.\")"
   ]
  }
 ],
 "metadata": {
  "kernelspec": {
   "display_name": "pytorch",
   "language": "python",
   "name": "python3"
  },
  "language_info": {
   "codemirror_mode": {
    "name": "ipython",
    "version": 3
   },
   "file_extension": ".py",
   "mimetype": "text/x-python",
   "name": "python",
   "nbconvert_exporter": "python",
   "pygments_lexer": "ipython3",
   "version": "3.8.19"
  }
 },
 "nbformat": 4,
 "nbformat_minor": 2
}
